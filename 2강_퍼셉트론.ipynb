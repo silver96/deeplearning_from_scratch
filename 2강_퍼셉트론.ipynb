{
  "nbformat": 4,
  "nbformat_minor": 0,
  "metadata": {
    "colab": {
      "name": "2강. 퍼셉트론.ipynb",
      "provenance": [],
      "collapsed_sections": [],
      "authorship_tag": "ABX9TyPH7Dz/J29QMw6ZiG87LhjM"
    },
    "kernelspec": {
      "name": "python3",
      "display_name": "Python 3"
    },
    "language_info": {
      "name": "python"
    }
  },
  "cells": [
    {
      "cell_type": "markdown",
      "source": [
        "###간단한 구현"
      ],
      "metadata": {
        "id": "hVrW6RcLIZwo"
      }
    },
    {
      "cell_type": "markdown",
      "source": [
        "단층 퍼셉트론"
      ],
      "metadata": {
        "id": "v1T90BFOJg9v"
      }
    },
    {
      "cell_type": "code",
      "execution_count": null,
      "metadata": {
        "id": "3W_TkyQlIQ35"
      },
      "outputs": [],
      "source": [
        "import numpy as np\n",
        "\n",
        "def AND(x1, x2):\n",
        "    x = np.array([x1, x2])\n",
        "    w = np.array([0.5, 0.5])\n",
        "    b = -0.7\n",
        "    tmp = np.sum(w * x) + b\n",
        "    if tmp <= 0:\n",
        "        return 0\n",
        "    else:\n",
        "        return 1\n"
      ]
    },
    {
      "cell_type": "code",
      "source": [
        "print(\"AND\")\n",
        "print(AND(0, 0))  # 0\n",
        "print(AND(0, 1))  # 0\n",
        "print(AND(1, 0))  # 0\n",
        "print(AND(1, 1))  # 1"
      ],
      "metadata": {
        "colab": {
          "base_uri": "https://localhost:8080/"
        },
        "id": "Y2qX_7jeI5fM",
        "outputId": "4609926f-18e7-4f49-9c77-758add9c73b5"
      },
      "execution_count": null,
      "outputs": [
        {
          "output_type": "stream",
          "name": "stdout",
          "text": [
            "AND\n",
            "0\n",
            "0\n",
            "0\n",
            "1\n"
          ]
        }
      ]
    },
    {
      "cell_type": "code",
      "source": [
        "def NAND(x1, x2):\n",
        "    x = np.array([x1, x2])\n",
        "    w = np.array([-0.5, -0.5])  # AND와는 가중치(w, b)만 다르다\n",
        "    b = 0.7\n",
        "    tmp = np.sum(w * x) + b\n",
        "    if tmp <= 0:\n",
        "        return 0\n",
        "    else:\n",
        "        return 1\n"
      ],
      "metadata": {
        "id": "pDZiAlHdJO_a"
      },
      "execution_count": null,
      "outputs": []
    },
    {
      "cell_type": "code",
      "source": [
        "print(\"NAND\")\n",
        "print(NAND(0, 0))  # 1\n",
        "print(NAND(0, 1))  # 1\n",
        "print(NAND(1, 0))  # 1\n",
        "print(NAND(1, 1))  # 0"
      ],
      "metadata": {
        "colab": {
          "base_uri": "https://localhost:8080/"
        },
        "id": "AGKrp93jJSqw",
        "outputId": "6ff2db30-f208-4ec4-cbf1-6276fc887c4d"
      },
      "execution_count": null,
      "outputs": [
        {
          "output_type": "stream",
          "name": "stdout",
          "text": [
            "NAND\n",
            "1\n",
            "1\n",
            "1\n",
            "0\n"
          ]
        }
      ]
    },
    {
      "cell_type": "code",
      "source": [
        "def OR(x1, x2):\n",
        "    x = np.array([x1, x2])\n",
        "    w = np.array([0.5, 0.5])  # AND와는 가중치(w, b)만 다르다\n",
        "    b = -0.2\n",
        "    tmp = np.sum(w * x) + b\n",
        "    if tmp <= 0:\n",
        "        return 0\n",
        "    else:\n",
        "        return 1"
      ],
      "metadata": {
        "id": "BrAWGG-KJXyy"
      },
      "execution_count": null,
      "outputs": []
    },
    {
      "cell_type": "code",
      "source": [
        "print(\"OR\")\n",
        "print(OR(0, 0))  # 0\n",
        "print(OR(0, 1))  # 1\n",
        "print(OR(1, 0))  # 1\n",
        "print(OR(1, 1))  # 1"
      ],
      "metadata": {
        "colab": {
          "base_uri": "https://localhost:8080/"
        },
        "id": "YpDRNq8BJZ5a",
        "outputId": "cd2ff972-1c4d-4ecb-cdc3-d7e581cf7a96"
      },
      "execution_count": null,
      "outputs": [
        {
          "output_type": "stream",
          "name": "stdout",
          "text": [
            "OR\n",
            "0\n",
            "1\n",
            "1\n",
            "1\n"
          ]
        }
      ]
    },
    {
      "cell_type": "markdown",
      "source": [
        "다층 퍼셉트론"
      ],
      "metadata": {
        "id": "EhqWUCXXJjQp"
      }
    },
    {
      "cell_type": "code",
      "source": [
        "'''\n",
        "XOR게이트는 단층(선형) 퍼셉트론으로는 구현 불가능하다.\n",
        " = 단층 퍼셉트론으로는 비선형 영역을 분리할 수 없다.\n",
        "다층 퍼셉트론multi-layer perceptron을 통해 비선형 영역을 분리 가능\n",
        "'''\n",
        "\n",
        "#비선형 시그모이드 함수를 활성화 함수로 사용해 임의의 함수를 표현\n",
        "def XOR(x1, x2):\n",
        "    s1 = NAND(x1, x2)\n",
        "    s2 = OR(x1, x2)\n",
        "    y = AND(s1, s2)\n",
        "    return y"
      ],
      "metadata": {
        "id": "y-3eLgZeJkdJ"
      },
      "execution_count": null,
      "outputs": []
    },
    {
      "cell_type": "code",
      "source": [
        "print(\"XOR\")\n",
        "print(XOR(0, 0))  # 0\n",
        "print(XOR(0, 1))  # 1\n",
        "print(XOR(1, 0))  # 1\n",
        "print(XOR(1, 1))  # 0"
      ],
      "metadata": {
        "colab": {
          "base_uri": "https://localhost:8080/"
        },
        "id": "85vYeXByJpvw",
        "outputId": "8bf3b770-0f5a-4764-b48e-d27ba7e8a6a7"
      },
      "execution_count": null,
      "outputs": [
        {
          "output_type": "stream",
          "name": "stdout",
          "text": [
            "XOR\n",
            "0\n",
            "1\n",
            "1\n",
            "0\n"
          ]
        }
      ]
    }
  ]
}