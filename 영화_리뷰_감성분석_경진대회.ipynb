{
  "nbformat": 4,
  "nbformat_minor": 0,
  "metadata": {
    "colab": {
      "name": "영화 리뷰 감성분석 경진대회.ipynb",
      "provenance": [],
      "authorship_tag": "ABX9TyMp3UtzC/llxq03lx0NY1+2"
    },
    "kernelspec": {
      "name": "python3",
      "display_name": "Python 3"
    },
    "language_info": {
      "name": "python"
    }
  },
  "cells": [
    {
      "cell_type": "markdown",
      "source": [
        "https://dacon.io/competitions/official/235864/data"
      ],
      "metadata": {
        "id": "ZLWxgpiQggQM"
      }
    },
    {
      "cell_type": "code",
      "execution_count": 30,
      "metadata": {
        "colab": {
          "base_uri": "https://localhost:8080/"
        },
        "id": "BgnVtPx4gD2f",
        "outputId": "c2891ab5-ac27-456e-bfc5-49c2b2b18730"
      },
      "outputs": [
        {
          "output_type": "stream",
          "name": "stdout",
          "text": [
            "Requirement already satisfied: gdrive_dataset in /usr/local/lib/python3.7/dist-packages (0.0.5)\n",
            "Requirement already satisfied: googledrivedownloader in /usr/local/lib/python3.7/dist-packages (from gdrive_dataset) (0.4)\n"
          ]
        }
      ],
      "source": [
        "!pip install gdrive_dataset"
      ]
    },
    {
      "cell_type": "code",
      "source": [
        "!pip install konlpy"
      ],
      "metadata": {
        "colab": {
          "base_uri": "https://localhost:8080/"
        },
        "id": "5QvRTYRjhhOD",
        "outputId": "932122df-1f0e-4bc0-a79d-ba2120cb2a7f"
      },
      "execution_count": 31,
      "outputs": [
        {
          "output_type": "stream",
          "name": "stdout",
          "text": [
            "Requirement already satisfied: konlpy in /usr/local/lib/python3.7/dist-packages (0.6.0)\n",
            "Requirement already satisfied: lxml>=4.1.0 in /usr/local/lib/python3.7/dist-packages (from konlpy) (4.2.6)\n",
            "Requirement already satisfied: numpy>=1.6 in /usr/local/lib/python3.7/dist-packages (from konlpy) (1.19.5)\n",
            "Requirement already satisfied: JPype1>=0.7.0 in /usr/local/lib/python3.7/dist-packages (from konlpy) (1.3.0)\n",
            "Requirement already satisfied: typing-extensions in /usr/local/lib/python3.7/dist-packages (from JPype1>=0.7.0->konlpy) (3.10.0.2)\n"
          ]
        }
      ]
    },
    {
      "cell_type": "code",
      "source": [
        "#한글 폰트 깨짐 방지\n",
        "!sudo apt-get install -y fonts-nanum #코랩 한글 폰트 꺠짐 방지 폰트 설치\n",
        "!sudo fc-cache -fv\n",
        "!rm ~/.cache/matplotlib -rf"
      ],
      "metadata": {
        "colab": {
          "base_uri": "https://localhost:8080/"
        },
        "id": "mjHAU8xAh9xr",
        "outputId": "bd7c4570-9da4-4773-d657-fd581c039e6a"
      },
      "execution_count": 32,
      "outputs": [
        {
          "output_type": "stream",
          "name": "stdout",
          "text": [
            "Reading package lists... Done\n",
            "Building dependency tree       \n",
            "Reading state information... Done\n",
            "fonts-nanum is already the newest version (20170925-1).\n",
            "0 upgraded, 0 newly installed, 0 to remove and 37 not upgraded.\n",
            "/usr/share/fonts: caching, new cache contents: 0 fonts, 1 dirs\n",
            "/usr/share/fonts/truetype: caching, new cache contents: 0 fonts, 3 dirs\n",
            "/usr/share/fonts/truetype/humor-sans: caching, new cache contents: 1 fonts, 0 dirs\n",
            "/usr/share/fonts/truetype/liberation: caching, new cache contents: 16 fonts, 0 dirs\n",
            "/usr/share/fonts/truetype/nanum: caching, new cache contents: 10 fonts, 0 dirs\n",
            "/usr/local/share/fonts: caching, new cache contents: 0 fonts, 0 dirs\n",
            "/root/.local/share/fonts: skipping, no such directory\n",
            "/root/.fonts: skipping, no such directory\n",
            "/var/cache/fontconfig: cleaning cache directory\n",
            "/root/.cache/fontconfig: not cleaning non-existent cache directory\n",
            "/root/.fontconfig: not cleaning non-existent cache directory\n",
            "fc-cache: succeeded\n"
          ]
        }
      ]
    },
    {
      "cell_type": "code",
      "source": [
        "import pandas as pd\n",
        "import numpy as np\n",
        "import matplotlib.pyplot as plt\n",
        "import os\n",
        "import re\n",
        "from konlpy.tag import Okt\n",
        "from konlpy.tag import Komoran\n",
        "from konlpy.tag import Kkma\n",
        "from sklearn.metrics import precision_recall_curve\n",
        "from sklearn.metrics import f1_score"
      ],
      "metadata": {
        "id": "1fp8ysFJiECl"
      },
      "execution_count": 33,
      "outputs": []
    },
    {
      "cell_type": "code",
      "source": [
        "from gdrivedataset import loader\n",
        "file_id = '1IbyL1762M0Lgoq7_qm2RaXfl3ney0e9i'\n",
        "loader.load_from_google_drive(file_id)"
      ],
      "metadata": {
        "colab": {
          "base_uri": "https://localhost:8080/"
        },
        "id": "X00fHu2miGVL",
        "outputId": "24b206fa-6617-452e-e492-2a983402acc4"
      },
      "execution_count": 34,
      "outputs": [
        {
          "output_type": "stream",
          "name": "stdout",
          "text": [
            "========== files ============\n",
            "\n",
            "data/dataset\n",
            "\n",
            "=============================\n"
          ]
        }
      ]
    },
    {
      "cell_type": "code",
      "source": [
        "DATA_DIR = '/content/data/dataset/'\n",
        "train = pd.read_csv(os.path.join(DATA_DIR, 'train.csv'))\n",
        "test = pd.read_csv(os.path.join(DATA_DIR, 'test.csv'))\n",
        "print(train.info())\n",
        "print(test.info())"
      ],
      "metadata": {
        "colab": {
          "base_uri": "https://localhost:8080/"
        },
        "id": "JNxEzN1li9MA",
        "outputId": "083a4d5a-fe77-4eec-824f-5f640ff2414f"
      },
      "execution_count": 35,
      "outputs": [
        {
          "output_type": "stream",
          "name": "stdout",
          "text": [
            "<class 'pandas.core.frame.DataFrame'>\n",
            "RangeIndex: 5000 entries, 0 to 4999\n",
            "Data columns (total 3 columns):\n",
            " #   Column    Non-Null Count  Dtype \n",
            "---  ------    --------------  ----- \n",
            " 0   id        5000 non-null   int64 \n",
            " 1   document  5000 non-null   object\n",
            " 2   label     5000 non-null   int64 \n",
            "dtypes: int64(2), object(1)\n",
            "memory usage: 117.3+ KB\n",
            "None\n",
            "<class 'pandas.core.frame.DataFrame'>\n",
            "RangeIndex: 5000 entries, 0 to 4999\n",
            "Data columns (total 2 columns):\n",
            " #   Column    Non-Null Count  Dtype \n",
            "---  ------    --------------  ----- \n",
            " 0   id        5000 non-null   int64 \n",
            " 1   document  5000 non-null   object\n",
            "dtypes: int64(1), object(1)\n",
            "memory usage: 78.2+ KB\n",
            "None\n"
          ]
        }
      ]
    },
    {
      "cell_type": "code",
      "source": [
        "train.head()"
      ],
      "metadata": {
        "colab": {
          "base_uri": "https://localhost:8080/",
          "height": 206
        },
        "id": "EjlZMz1zjpNk",
        "outputId": "d9848462-ce27-4fcc-f895-a42331523d3d"
      },
      "execution_count": 36,
      "outputs": [
        {
          "output_type": "execute_result",
          "data": {
            "text/html": [
              "\n",
              "  <div id=\"df-8a9e66a7-3a4b-40de-b58d-06aa210500f0\">\n",
              "    <div class=\"colab-df-container\">\n",
              "      <div>\n",
              "<style scoped>\n",
              "    .dataframe tbody tr th:only-of-type {\n",
              "        vertical-align: middle;\n",
              "    }\n",
              "\n",
              "    .dataframe tbody tr th {\n",
              "        vertical-align: top;\n",
              "    }\n",
              "\n",
              "    .dataframe thead th {\n",
              "        text-align: right;\n",
              "    }\n",
              "</style>\n",
              "<table border=\"1\" class=\"dataframe\">\n",
              "  <thead>\n",
              "    <tr style=\"text-align: right;\">\n",
              "      <th></th>\n",
              "      <th>id</th>\n",
              "      <th>document</th>\n",
              "      <th>label</th>\n",
              "    </tr>\n",
              "  </thead>\n",
              "  <tbody>\n",
              "    <tr>\n",
              "      <th>0</th>\n",
              "      <td>1</td>\n",
              "      <td>영상이나 음악이 이쁘다 해도 미화시킨 불륜일뿐</td>\n",
              "      <td>0</td>\n",
              "    </tr>\n",
              "    <tr>\n",
              "      <th>1</th>\n",
              "      <td>2</td>\n",
              "      <td>히치콕이 이 영화를 봤다면 분명 박수를 쳤을듯...</td>\n",
              "      <td>1</td>\n",
              "    </tr>\n",
              "    <tr>\n",
              "      <th>2</th>\n",
              "      <td>3</td>\n",
              "      <td>괜찮은 음악영화가 또 나왔군요!!! 따뜻한 겨울이 될 것 같아요~</td>\n",
              "      <td>1</td>\n",
              "    </tr>\n",
              "    <tr>\n",
              "      <th>3</th>\n",
              "      <td>4</td>\n",
              "      <td>아무래도 20년도지난작품이라 지금보기는너무유치하다</td>\n",
              "      <td>0</td>\n",
              "    </tr>\n",
              "    <tr>\n",
              "      <th>4</th>\n",
              "      <td>5</td>\n",
              "      <td>지금까지의 영화들이 그랬듯. 이 영화역시 일본에 대한 미화는 여전하다.</td>\n",
              "      <td>0</td>\n",
              "    </tr>\n",
              "  </tbody>\n",
              "</table>\n",
              "</div>\n",
              "      <button class=\"colab-df-convert\" onclick=\"convertToInteractive('df-8a9e66a7-3a4b-40de-b58d-06aa210500f0')\"\n",
              "              title=\"Convert this dataframe to an interactive table.\"\n",
              "              style=\"display:none;\">\n",
              "        \n",
              "  <svg xmlns=\"http://www.w3.org/2000/svg\" height=\"24px\"viewBox=\"0 0 24 24\"\n",
              "       width=\"24px\">\n",
              "    <path d=\"M0 0h24v24H0V0z\" fill=\"none\"/>\n",
              "    <path d=\"M18.56 5.44l.94 2.06.94-2.06 2.06-.94-2.06-.94-.94-2.06-.94 2.06-2.06.94zm-11 1L8.5 8.5l.94-2.06 2.06-.94-2.06-.94L8.5 2.5l-.94 2.06-2.06.94zm10 10l.94 2.06.94-2.06 2.06-.94-2.06-.94-.94-2.06-.94 2.06-2.06.94z\"/><path d=\"M17.41 7.96l-1.37-1.37c-.4-.4-.92-.59-1.43-.59-.52 0-1.04.2-1.43.59L10.3 9.45l-7.72 7.72c-.78.78-.78 2.05 0 2.83L4 21.41c.39.39.9.59 1.41.59.51 0 1.02-.2 1.41-.59l7.78-7.78 2.81-2.81c.8-.78.8-2.07 0-2.86zM5.41 20L4 18.59l7.72-7.72 1.47 1.35L5.41 20z\"/>\n",
              "  </svg>\n",
              "      </button>\n",
              "      \n",
              "  <style>\n",
              "    .colab-df-container {\n",
              "      display:flex;\n",
              "      flex-wrap:wrap;\n",
              "      gap: 12px;\n",
              "    }\n",
              "\n",
              "    .colab-df-convert {\n",
              "      background-color: #E8F0FE;\n",
              "      border: none;\n",
              "      border-radius: 50%;\n",
              "      cursor: pointer;\n",
              "      display: none;\n",
              "      fill: #1967D2;\n",
              "      height: 32px;\n",
              "      padding: 0 0 0 0;\n",
              "      width: 32px;\n",
              "    }\n",
              "\n",
              "    .colab-df-convert:hover {\n",
              "      background-color: #E2EBFA;\n",
              "      box-shadow: 0px 1px 2px rgba(60, 64, 67, 0.3), 0px 1px 3px 1px rgba(60, 64, 67, 0.15);\n",
              "      fill: #174EA6;\n",
              "    }\n",
              "\n",
              "    [theme=dark] .colab-df-convert {\n",
              "      background-color: #3B4455;\n",
              "      fill: #D2E3FC;\n",
              "    }\n",
              "\n",
              "    [theme=dark] .colab-df-convert:hover {\n",
              "      background-color: #434B5C;\n",
              "      box-shadow: 0px 1px 3px 1px rgba(0, 0, 0, 0.15);\n",
              "      filter: drop-shadow(0px 1px 2px rgba(0, 0, 0, 0.3));\n",
              "      fill: #FFFFFF;\n",
              "    }\n",
              "  </style>\n",
              "\n",
              "      <script>\n",
              "        const buttonEl =\n",
              "          document.querySelector('#df-8a9e66a7-3a4b-40de-b58d-06aa210500f0 button.colab-df-convert');\n",
              "        buttonEl.style.display =\n",
              "          google.colab.kernel.accessAllowed ? 'block' : 'none';\n",
              "\n",
              "        async function convertToInteractive(key) {\n",
              "          const element = document.querySelector('#df-8a9e66a7-3a4b-40de-b58d-06aa210500f0');\n",
              "          const dataTable =\n",
              "            await google.colab.kernel.invokeFunction('convertToInteractive',\n",
              "                                                     [key], {});\n",
              "          if (!dataTable) return;\n",
              "\n",
              "          const docLinkHtml = 'Like what you see? Visit the ' +\n",
              "            '<a target=\"_blank\" href=https://colab.research.google.com/notebooks/data_table.ipynb>data table notebook</a>'\n",
              "            + ' to learn more about interactive tables.';\n",
              "          element.innerHTML = '';\n",
              "          dataTable['output_type'] = 'display_data';\n",
              "          await google.colab.output.renderOutput(dataTable, element);\n",
              "          const docLink = document.createElement('div');\n",
              "          docLink.innerHTML = docLinkHtml;\n",
              "          element.appendChild(docLink);\n",
              "        }\n",
              "      </script>\n",
              "    </div>\n",
              "  </div>\n",
              "  "
            ],
            "text/plain": [
              "   id                                 document  label\n",
              "0   1                영상이나 음악이 이쁘다 해도 미화시킨 불륜일뿐      0\n",
              "1   2             히치콕이 이 영화를 봤다면 분명 박수를 쳤을듯...      1\n",
              "2   3     괜찮은 음악영화가 또 나왔군요!!! 따뜻한 겨울이 될 것 같아요~      1\n",
              "3   4              아무래도 20년도지난작품이라 지금보기는너무유치하다      0\n",
              "4   5  지금까지의 영화들이 그랬듯. 이 영화역시 일본에 대한 미화는 여전하다.      0"
            ]
          },
          "metadata": {},
          "execution_count": 36
        }
      ]
    },
    {
      "cell_type": "code",
      "source": [
        "train.isna().sum() #결측치 확인"
      ],
      "metadata": {
        "colab": {
          "base_uri": "https://localhost:8080/"
        },
        "id": "lb9D1huijz08",
        "outputId": "ff11bb68-0cc8-481c-aa5a-89338e3ec3a2"
      },
      "execution_count": 37,
      "outputs": [
        {
          "output_type": "execute_result",
          "data": {
            "text/plain": [
              "id          0\n",
              "document    0\n",
              "label       0\n",
              "dtype: int64"
            ]
          },
          "metadata": {},
          "execution_count": 37
        }
      ]
    },
    {
      "cell_type": "code",
      "source": [
        "test.head()"
      ],
      "metadata": {
        "colab": {
          "base_uri": "https://localhost:8080/",
          "height": 206
        },
        "id": "Usm1Qlo4jsmp",
        "outputId": "dc8022b7-7095-4a9f-ee4e-24443d9d5eb7"
      },
      "execution_count": 38,
      "outputs": [
        {
          "output_type": "execute_result",
          "data": {
            "text/html": [
              "\n",
              "  <div id=\"df-f26dd708-919e-42eb-87ea-762f2f3bc02b\">\n",
              "    <div class=\"colab-df-container\">\n",
              "      <div>\n",
              "<style scoped>\n",
              "    .dataframe tbody tr th:only-of-type {\n",
              "        vertical-align: middle;\n",
              "    }\n",
              "\n",
              "    .dataframe tbody tr th {\n",
              "        vertical-align: top;\n",
              "    }\n",
              "\n",
              "    .dataframe thead th {\n",
              "        text-align: right;\n",
              "    }\n",
              "</style>\n",
              "<table border=\"1\" class=\"dataframe\">\n",
              "  <thead>\n",
              "    <tr style=\"text-align: right;\">\n",
              "      <th></th>\n",
              "      <th>id</th>\n",
              "      <th>document</th>\n",
              "    </tr>\n",
              "  </thead>\n",
              "  <tbody>\n",
              "    <tr>\n",
              "      <th>0</th>\n",
              "      <td>1</td>\n",
              "      <td>시간 때우기 좋은 영화 지루함</td>\n",
              "    </tr>\n",
              "    <tr>\n",
              "      <th>1</th>\n",
              "      <td>2</td>\n",
              "      <td>훈훈한 정이 느껴지는 영화! 가족끼리 드라마 보듯이 보면 딱~!</td>\n",
              "    </tr>\n",
              "    <tr>\n",
              "      <th>2</th>\n",
              "      <td>3</td>\n",
              "      <td>Childhood fantasy</td>\n",
              "    </tr>\n",
              "    <tr>\n",
              "      <th>3</th>\n",
              "      <td>4</td>\n",
              "      <td>멋있는 영화입니다. 잊을 수 없는!</td>\n",
              "    </tr>\n",
              "    <tr>\n",
              "      <th>4</th>\n",
              "      <td>5</td>\n",
              "      <td>너무 감동적이네요 펑펑 울었습니다</td>\n",
              "    </tr>\n",
              "  </tbody>\n",
              "</table>\n",
              "</div>\n",
              "      <button class=\"colab-df-convert\" onclick=\"convertToInteractive('df-f26dd708-919e-42eb-87ea-762f2f3bc02b')\"\n",
              "              title=\"Convert this dataframe to an interactive table.\"\n",
              "              style=\"display:none;\">\n",
              "        \n",
              "  <svg xmlns=\"http://www.w3.org/2000/svg\" height=\"24px\"viewBox=\"0 0 24 24\"\n",
              "       width=\"24px\">\n",
              "    <path d=\"M0 0h24v24H0V0z\" fill=\"none\"/>\n",
              "    <path d=\"M18.56 5.44l.94 2.06.94-2.06 2.06-.94-2.06-.94-.94-2.06-.94 2.06-2.06.94zm-11 1L8.5 8.5l.94-2.06 2.06-.94-2.06-.94L8.5 2.5l-.94 2.06-2.06.94zm10 10l.94 2.06.94-2.06 2.06-.94-2.06-.94-.94-2.06-.94 2.06-2.06.94z\"/><path d=\"M17.41 7.96l-1.37-1.37c-.4-.4-.92-.59-1.43-.59-.52 0-1.04.2-1.43.59L10.3 9.45l-7.72 7.72c-.78.78-.78 2.05 0 2.83L4 21.41c.39.39.9.59 1.41.59.51 0 1.02-.2 1.41-.59l7.78-7.78 2.81-2.81c.8-.78.8-2.07 0-2.86zM5.41 20L4 18.59l7.72-7.72 1.47 1.35L5.41 20z\"/>\n",
              "  </svg>\n",
              "      </button>\n",
              "      \n",
              "  <style>\n",
              "    .colab-df-container {\n",
              "      display:flex;\n",
              "      flex-wrap:wrap;\n",
              "      gap: 12px;\n",
              "    }\n",
              "\n",
              "    .colab-df-convert {\n",
              "      background-color: #E8F0FE;\n",
              "      border: none;\n",
              "      border-radius: 50%;\n",
              "      cursor: pointer;\n",
              "      display: none;\n",
              "      fill: #1967D2;\n",
              "      height: 32px;\n",
              "      padding: 0 0 0 0;\n",
              "      width: 32px;\n",
              "    }\n",
              "\n",
              "    .colab-df-convert:hover {\n",
              "      background-color: #E2EBFA;\n",
              "      box-shadow: 0px 1px 2px rgba(60, 64, 67, 0.3), 0px 1px 3px 1px rgba(60, 64, 67, 0.15);\n",
              "      fill: #174EA6;\n",
              "    }\n",
              "\n",
              "    [theme=dark] .colab-df-convert {\n",
              "      background-color: #3B4455;\n",
              "      fill: #D2E3FC;\n",
              "    }\n",
              "\n",
              "    [theme=dark] .colab-df-convert:hover {\n",
              "      background-color: #434B5C;\n",
              "      box-shadow: 0px 1px 3px 1px rgba(0, 0, 0, 0.15);\n",
              "      filter: drop-shadow(0px 1px 2px rgba(0, 0, 0, 0.3));\n",
              "      fill: #FFFFFF;\n",
              "    }\n",
              "  </style>\n",
              "\n",
              "      <script>\n",
              "        const buttonEl =\n",
              "          document.querySelector('#df-f26dd708-919e-42eb-87ea-762f2f3bc02b button.colab-df-convert');\n",
              "        buttonEl.style.display =\n",
              "          google.colab.kernel.accessAllowed ? 'block' : 'none';\n",
              "\n",
              "        async function convertToInteractive(key) {\n",
              "          const element = document.querySelector('#df-f26dd708-919e-42eb-87ea-762f2f3bc02b');\n",
              "          const dataTable =\n",
              "            await google.colab.kernel.invokeFunction('convertToInteractive',\n",
              "                                                     [key], {});\n",
              "          if (!dataTable) return;\n",
              "\n",
              "          const docLinkHtml = 'Like what you see? Visit the ' +\n",
              "            '<a target=\"_blank\" href=https://colab.research.google.com/notebooks/data_table.ipynb>data table notebook</a>'\n",
              "            + ' to learn more about interactive tables.';\n",
              "          element.innerHTML = '';\n",
              "          dataTable['output_type'] = 'display_data';\n",
              "          await google.colab.output.renderOutput(dataTable, element);\n",
              "          const docLink = document.createElement('div');\n",
              "          docLink.innerHTML = docLinkHtml;\n",
              "          element.appendChild(docLink);\n",
              "        }\n",
              "      </script>\n",
              "    </div>\n",
              "  </div>\n",
              "  "
            ],
            "text/plain": [
              "   id                             document\n",
              "0   1                     시간 때우기 좋은 영화 지루함\n",
              "1   2  훈훈한 정이 느껴지는 영화! 가족끼리 드라마 보듯이 보면 딱~!\n",
              "2   3                    Childhood fantasy\n",
              "3   4                  멋있는 영화입니다. 잊을 수 없는!\n",
              "4   5                   너무 감동적이네요 펑펑 울었습니다"
            ]
          },
          "metadata": {},
          "execution_count": 38
        }
      ]
    },
    {
      "cell_type": "code",
      "source": [
        "train.drop(['id'],axis=1, inplace=True)"
      ],
      "metadata": {
        "id": "E4TK9ElTpwiX"
      },
      "execution_count": 39,
      "outputs": []
    },
    {
      "cell_type": "code",
      "source": [
        "#데이터의 label분포 확인\n",
        "train.groupby('label').count().plot.bar()"
      ],
      "metadata": {
        "colab": {
          "base_uri": "https://localhost:8080/",
          "height": 293
        },
        "id": "uHHWJ9JypVzf",
        "outputId": "709a86f0-b140-4fbb-9bcf-e61b357a2da3"
      },
      "execution_count": 40,
      "outputs": [
        {
          "output_type": "execute_result",
          "data": {
            "text/plain": [
              "<matplotlib.axes._subplots.AxesSubplot at 0x7ff62a6acfd0>"
            ]
          },
          "metadata": {},
          "execution_count": 40
        },
        {
          "output_type": "display_data",
          "data": {
            "image/png": "[encoded data removed]",
            "text/plain": [
              "<Figure size 432x288 with 1 Axes>"
            ]
          },
          "metadata": {
            "needs_background": "light"
          }
        }
      ]
    },
    {
      "cell_type": "code",
      "source": [
        "#정규표현식을 사용하여 글자만 추출\n",
        "document = train['document'].str.replace('[^a-z|A-Z|ㄱ-ㅎ|가-힣|]','', regex=True)"
      ],
      "metadata": {
        "id": "T5sDDxXIp81k"
      },
      "execution_count": 41,
      "outputs": []
    },
    {
      "cell_type": "code",
      "source": [
        "from tqdm import tqdm\n",
        "#특수문자,불용어제거, 토큰화를 실행한다.\n",
        "stop_words=['ㅋㅋ']\n",
        "\n",
        "okt = Okt() #토크나이징을 실시한다.\n",
        "kkm = Kkma()\n",
        "token_list = []\n",
        "for sentence in tqdm(document):\n",
        "  token = okt.morphs(sentence,stem=True)\n",
        "  if len(token) < 2 : #못자르는 경우 kkma로 별도로 한번더 잘라줬습니다.\n",
        "    token = kkm.morphs(sentence)\n",
        "    print(token)\n",
        "  token = [t for t in token if t not in stop_words and len(t)>1]\n",
        "  if token: #텅빈 문장일 경우 추가하지 않습니다.\n",
        "    token_list.append(token)"
      ],
      "metadata": {
        "colab": {
          "base_uri": "https://localhost:8080/"
        },
        "id": "fLEtgWh3qjhk",
        "outputId": "03c2cc13-4dea-43af-97d5-cad4ce557725"
      },
      "execution_count": 42,
      "outputs": [
        {
          "output_type": "stream",
          "name": "stderr",
          "text": [
            "  3%|▎         | 166/5000 [00:02<01:32, 52.46it/s]"
          ]
        },
        {
          "output_type": "stream",
          "name": "stdout",
          "text": [
            "['veryveryverygood']\n"
          ]
        },
        {
          "output_type": "stream",
          "name": "stderr",
          "text": [
            " 14%|█▎        | 682/5000 [00:09<00:45, 95.93it/s]"
          ]
        },
        {
          "output_type": "stream",
          "name": "stdout",
          "text": [
            "['revengeissweet']\n"
          ]
        },
        {
          "output_type": "stream",
          "name": "stderr",
          "text": [
            " 15%|█▍        | 728/5000 [00:10<00:54, 78.59it/s]"
          ]
        },
        {
          "output_type": "stream",
          "name": "stdout",
          "text": [
            "['ItgetsbetterandbetterasitgoesonD']\n"
          ]
        },
        {
          "output_type": "stream",
          "name": "stderr",
          "text": [
            " 38%|███▊      | 1925/5000 [00:26<00:37, 82.14it/s]"
          ]
        },
        {
          "output_type": "stream",
          "name": "stdout",
          "text": [
            "['UnderworldAwakening']\n"
          ]
        },
        {
          "output_type": "stream",
          "name": "stderr",
          "text": [
            " 49%|████▉     | 2474/5000 [00:34<00:40, 62.85it/s]"
          ]
        },
        {
          "output_type": "stream",
          "name": "stdout",
          "text": [
            "['divorceDIVORCE']\n"
          ]
        },
        {
          "output_type": "stream",
          "name": "stderr",
          "text": [
            " 55%|█████▍    | 2732/5000 [00:38<00:25, 89.29it/s]"
          ]
        },
        {
          "output_type": "stream",
          "name": "stdout",
          "text": [
            "['MirandaCosgroveABEST']\n"
          ]
        },
        {
          "output_type": "stream",
          "name": "stderr",
          "text": [
            " 56%|█████▋    | 2813/5000 [00:39<00:36, 60.31it/s]"
          ]
        },
        {
          "output_type": "stream",
          "name": "stdout",
          "text": [
            "['수작']\n"
          ]
        },
        {
          "output_type": "stream",
          "name": "stderr",
          "text": [
            " 74%|███████▍  | 3706/5000 [00:52<00:15, 83.50it/s]"
          ]
        },
        {
          "output_type": "stream",
          "name": "stdout",
          "text": [
            "['Itsastrangefilmisntit']\n"
          ]
        },
        {
          "output_type": "stream",
          "name": "stderr",
          "text": [
            " 78%|███████▊  | 3919/5000 [00:55<00:10, 99.10it/s]"
          ]
        },
        {
          "output_type": "stream",
          "name": "stdout",
          "text": [
            "['대단', '하', '어요']\n"
          ]
        },
        {
          "output_type": "stream",
          "name": "stderr",
          "text": [
            " 83%|████████▎ | 4131/5000 [00:58<00:08, 97.42it/s]"
          ]
        },
        {
          "output_type": "stream",
          "name": "stdout",
          "text": [
            "['producedbeChristopherNolan']\n"
          ]
        },
        {
          "output_type": "stream",
          "name": "stderr",
          "text": [
            " 83%|████████▎ | 4153/5000 [00:58<00:10, 82.61it/s]"
          ]
        },
        {
          "output_type": "stream",
          "name": "stdout",
          "text": [
            "['Thuthisoutthere']\n"
          ]
        },
        {
          "output_type": "stream",
          "name": "stderr",
          "text": [
            " 93%|█████████▎| 4650/5000 [01:05<00:05, 61.28it/s]"
          ]
        },
        {
          "output_type": "stream",
          "name": "stdout",
          "text": [
            "['굳']\n"
          ]
        },
        {
          "output_type": "stream",
          "name": "stderr",
          "text": [
            " 95%|█████████▌| 4768/5000 [01:07<00:02, 99.88it/s]"
          ]
        },
        {
          "output_type": "stream",
          "name": "stdout",
          "text": [
            "['Nocomparisonsuperb']\n"
          ]
        },
        {
          "output_type": "stream",
          "name": "stderr",
          "text": [
            "100%|██████████| 5000/5000 [01:10<00:00, 70.88it/s]\n"
          ]
        }
      ]
    },
    {
      "cell_type": "code",
      "source": [
        "tokens = pd.Series(token_list)\n",
        "tokens[:10]"
      ],
      "metadata": {
        "colab": {
          "base_uri": "https://localhost:8080/"
        },
        "id": "4KH9-UIRqjaB",
        "outputId": "941dd01c-a70b-494d-c562-4a64c0980cbf"
      },
      "execution_count": 43,
      "outputs": [
        {
          "output_type": "execute_result",
          "data": {
            "text/plain": [
              "0              [영상, 이나, 음악, 이쁘다, 도미, 시키다, 불륜]\n",
              "1                  [히치콕, 이영화, 보다, 분명, 박수, 치다]\n",
              "2        [괜찮다, 음악, 영화, 나오다, 따뜻하다, 겨울, 되다, 같다]\n",
              "3    [아무래도, 년도, 지난, 작품, 이라, 지금, 보기, 너무, 유치하다]\n",
              "4    [지금, 까지의, 영화, 그렇다, 영화, 역시, 일본, 한미, 여전하다]\n",
              "5         [인생, 있다, 끄다, 꼽히다, 영화, 원작, 능가, 리메이크]\n",
              "6             [성룡, 영화, 최악, 차라리, 러시아워, 훨씬, 나다]\n",
              "7        [마음, 성숙하다, 보다, 다르다, 보이다, 영화, 걸작, 이다]\n",
              "8                           [가슴, 찡하다, 기억, 영화]\n",
              "9         [결말, 기분, 나쁘다, 공포, 매니아, 에게, 이따위, 결말]\n",
              "dtype: object"
            ]
          },
          "metadata": {},
          "execution_count": 43
        }
      ]
    },
    {
      "cell_type": "code",
      "source": [
        "#각 고유 tokens의 빈도 추출\n",
        "frequncies = pd.Series(np.concatenate([w for w in token_list])).value_counts()\n",
        "frequncies"
      ],
      "metadata": {
        "colab": {
          "base_uri": "https://localhost:8080/"
        },
        "id": "6nr2y7EdqjQA",
        "outputId": "b921cae1-4f64-418b-d45c-adead6bd89dc"
      },
      "execution_count": 44,
      "outputs": [
        {
          "output_type": "execute_result",
          "data": {
            "text/plain": [
              "영화      1353\n",
              "보다      1098\n",
              "하다       540\n",
              "없다       450\n",
              "이다       375\n",
              "        ... \n",
              "차인표        1\n",
              "요조         1\n",
              "정일우        1\n",
              "그러하다       1\n",
              "말씀         1\n",
              "Length: 6494, dtype: int64"
            ]
          },
          "metadata": {},
          "execution_count": 44
        }
      ]
    },
    {
      "cell_type": "code",
      "source": [
        "def get_freq_count(tokens):\n",
        "  pos_token = tokens[train['label']==1]\n",
        "  neg_token = tokens[train['label']==0]\n",
        "  pos_freq = pd.Series(np.concatenate([w for w in pos_token])).value_counts()\n",
        "  neg_freq = pd.Series(np.concatenate([w for w in neg_token])).value_counts()\n",
        "  return pos_freq, neg_freq\n"
      ],
      "metadata": {
        "id": "_t6pRmAPs0Or"
      },
      "execution_count": 45,
      "outputs": []
    },
    {
      "cell_type": "code",
      "source": [
        "def remove_doubled_words(pos_freq, neg_freq, tokens):\n",
        "  #긍정,부정에서 모두 사용되는 단어는 의미 없는 단어이므로 제거해줍니다.\n",
        "  top_50_pos = pos_freq[:20]\n",
        "  top_50_neg = neg_freq[:20]\n",
        "  remove_words = [p for p in top_50_pos.index if p in top_50_neg.index]\n",
        "  tokens_removed = remove_stop_words(tokens, remove_words)\n",
        "  final_tokens = cleaning_tokens(tokens_removed)\n",
        "  return final_tokens\n"
      ],
      "metadata": {
        "id": "F_GpCzKxDcAr"
      },
      "execution_count": 46,
      "outputs": []
    },
    {
      "cell_type": "code",
      "source": [
        "def draw_top_hist(data,name,color): #히스토그램을 그려줍니다.\n",
        "  top_10 = data[:10]\n",
        "  plt.figure(figsize=(12,7.5))\n",
        "  plt.rc('font', family='NanumBarunGothic') \n",
        "  plt.suptitle(\"Bar Plot\", fontsize=30)\n",
        "  plt.title(name, fontsize=15)\n",
        "  plt.bar(top_10.index,top_10.values, width=0.5, color= color, alpha=0.5)\n",
        "  plt.tight_layout(rect=[0, 0.03, 1, 0.95])\n",
        "  plt.show()"
      ],
      "metadata": {
        "id": "vxwspbWsDceg"
      },
      "execution_count": 47,
      "outputs": []
    },
    {
      "cell_type": "code",
      "source": [
        "pos_freq, neg_freq = get_freq_count(tokens)"
      ],
      "metadata": {
        "id": "SD1Zr91XDf2q"
      },
      "execution_count": 48,
      "outputs": []
    },
    {
      "cell_type": "code",
      "source": [
        "draw_top_hist(freqeuncies,'total reviews','g')"
      ],
      "metadata": {
        "colab": {
          "base_uri": "https://localhost:8080/",
          "height": 166
        },
        "id": "-bYGaqkwDjC_",
        "outputId": "e6721bd5-e0e0-4e5d-b729-19be59c610c7"
      },
      "execution_count": 49,
      "outputs": [
        {
          "output_type": "error",
          "ename": "NameError",
          "evalue": "ignored",
          "traceback": [
            "\u001b[0;31m---------------------------------------------------------------------------\u001b[0m",
            "\u001b[0;31mNameError\u001b[0m                                 Traceback (most recent call last)",
            "\u001b[0;32m<ipython-input-49-4f3728c3dc19>\u001b[0m in \u001b[0;36m<module>\u001b[0;34m()\u001b[0m\n\u001b[0;32m----> 1\u001b[0;31m \u001b[0mdraw_top_hist\u001b[0m\u001b[0;34m(\u001b[0m\u001b[0mfreqeuncies\u001b[0m\u001b[0;34m,\u001b[0m\u001b[0;34m'total reviews'\u001b[0m\u001b[0;34m,\u001b[0m\u001b[0;34m'g'\u001b[0m\u001b[0;34m)\u001b[0m\u001b[0;34m\u001b[0m\u001b[0;34m\u001b[0m\u001b[0m\n\u001b[0m",
            "\u001b[0;31mNameError\u001b[0m: name 'freqeuncies' is not defined"
          ]
        }
      ]
    },
    {
      "cell_type": "code",
      "source": [
        "draw_top_hist(pos_freq,'pos reviews','r')"
      ],
      "metadata": {
        "id": "jXEjOuRyDk7Z"
      },
      "execution_count": null,
      "outputs": []
    },
    {
      "cell_type": "code",
      "source": [
        "draw_top_hist(neg_freq,'Neg reviews','b')"
      ],
      "metadata": {
        "id": "FuhiEDDKDm6U"
      },
      "execution_count": null,
      "outputs": []
    },
    {
      "cell_type": "code",
      "source": [
        "top_50_pos = pos_freq[:10]\n",
        "top_50_neg = neg_freq[:10]\n",
        "common_words = [p for p in top_50_pos.index if p in top_50_neg.index]\n",
        "common_words"
      ],
      "metadata": {
        "id": "W3BOglwUDo0H"
      },
      "execution_count": null,
      "outputs": []
    },
    {
      "cell_type": "code",
      "source": [
        "total = freqeuncies.sum()\n",
        "common_words_cnt = freqeuncies[common_words].sum()\n",
        "print(f'total words count: {total} removed: {common_words_cnt} ratio: {common_words_cnt / total :.2f}')"
      ],
      "metadata": {
        "id": "A8S7YHs6DqMw"
      },
      "execution_count": null,
      "outputs": []
    },
    {
      "cell_type": "code",
      "source": [
        "clean_token_list = []\n",
        "for token in tokens:\n",
        "  clean_token = list(filter(lambda x: x not in common_words,token))\n",
        "  clean_token_list.append(clean_token)"
      ],
      "metadata": {
        "id": "KO0KSN2DDsDD"
      },
      "execution_count": null,
      "outputs": []
    },
    {
      "cell_type": "code",
      "source": [
        "clean_tokens = pd.Series(clean_token_list)\n",
        "clean_tokens[:10]"
      ],
      "metadata": {
        "id": "W5QseYTvDuDv"
      },
      "execution_count": null,
      "outputs": []
    },
    {
      "cell_type": "code",
      "source": [
        "pos_freq,neg_freq = get_freq_count(clean_tokens)"
      ],
      "metadata": {
        "id": "GKay1ZEbDt7P"
      },
      "execution_count": null,
      "outputs": []
    },
    {
      "cell_type": "code",
      "source": [
        "draw_top_hist(pos_freq,'pos reviews','r') #다시 그린 긍정리뷰 빈도수 히스토그램"
      ],
      "metadata": {
        "id": "qv0CkBQLDt1z"
      },
      "execution_count": null,
      "outputs": []
    },
    {
      "cell_type": "code",
      "source": [
        "draw_top_hist(neg_freq,'neg reviews','b') #다시 그린 긍정리뷰 빈도수 히스토그램"
      ],
      "metadata": {
        "id": "8TqTxK0rDyt_"
      },
      "execution_count": null,
      "outputs": []
    },
    {
      "cell_type": "code",
      "source": [
        "print(f\"Words kinds: {len(freqeuncies)}\")"
      ],
      "metadata": {
        "id": "Ee7zFBBRDyrj"
      },
      "execution_count": null,
      "outputs": []
    },
    {
      "cell_type": "code",
      "source": [
        "clean_frequencies = pd.Series(np.concatenate([w for w in clean_tokens])).value_counts()\n",
        "accumulate_words = np.add.accumulate(clean_frequencies) #빈도수의 누적합을 구해줍니다.\n",
        "ratio = 0.99\n",
        "words_cnt = np.where(accumulate_words > sum(clean_frequencies) * 0.99)[0][0]\n",
        "plt.figure(figsize=(12,8))\n",
        "plt.bar(range(0,len(clean_frequencies)), accumulate_words / sum(clean_frequencies), width=1.0) #전체 단어와 현재까지의 빈도수의 비율을 구해줍니다.\n",
        "plt.title('Words distribuition')\n",
        "plt.suptitle(f'{words_cnt} words explain {ratio * 100:.1f}% of total words dirtribution')"
      ],
      "metadata": {
        "id": "SmASruyzDyo4"
      },
      "execution_count": null,
      "outputs": []
    },
    {
      "cell_type": "code",
      "source": [
        "words_distribution = clean_frequencies.value_counts()\n",
        "plt.figure(figsize=(12,8))\n",
        "plt.plot(range(0,len(words_distribution)), words_distribution.values)\n",
        "plt.ylabel(\"해당 빈도수를 갖는 단어의 수\")\n",
        "plt.xlabel(\"단어의 등장 빈도 수\")\n",
        "plt.title(\"등장 빈도수에 따른 단어의 분포\")\n",
        "plt.legend()"
      ],
      "metadata": {
        "id": "IPHgciJNDyl5"
      },
      "execution_count": null,
      "outputs": []
    },
    {
      "cell_type": "markdown",
      "source": [
        "###tfidf 학습"
      ],
      "metadata": {
        "id": "L2yvj8F0D7RD"
      }
    },
    {
      "cell_type": "code",
      "source": [
        "#tfidf를 활용해 벡터화를 진행합니다.\n",
        "from sklearn.feature_extraction.text import TfidfVectorizer\n",
        "from sklearn.linear_model import LogisticRegression\n",
        "from sklearn.model_selection import train_test_split"
      ],
      "metadata": {
        "id": "XsjTmISyDyiD"
      },
      "execution_count": null,
      "outputs": []
    },
    {
      "cell_type": "code",
      "source": [
        "X = clean_tokens.apply(''.join) #벡터화를 위해서 배열을 문자열로 합쳐줍니다.\n",
        "y = train['label']\n",
        "X_train, X_eval, y_train, y_eval = train_test_split(X, y, test_size=0.2, random_state=2) #학습 데이터와 검증 데이터를 분리합니다."
      ],
      "metadata": {
        "id": "bWWKKI2dEB70"
      },
      "execution_count": null,
      "outputs": []
    },
    {
      "cell_type": "code",
      "source": [
        "#최적의 파라미터를 찾습니다.\n",
        "best_max_feature = 0\n",
        "best_cost = 0\n",
        "best_f1 = 0\n",
        "for i in range(100, 5000, 100): #max feature 값을 이동시키며 최적값을 찾습니다.\n",
        "  vectorizer = TfidfVectorizer(analyzer='char',sublinear_tf=True,ngram_range=(1,3),max_features=i) \n",
        "  X_train_vector = vectorizer.fit_transform(X_train)\n",
        "  X_eval_vector = vectorizer.transform(X_eval)\n",
        "  for c in [0.01,0.03,0.1,0.3,1,3,10]: #cost 값을 이동시키며 최적 값을 찾습니다.\n",
        "      lgs = LogisticRegression(class_weight = 'balanced', max_iter=2000, C = c)\n",
        "      lgs.fit(X_train_vector, y_train)\n",
        "      yhat = lgs.predict_proba(X_eval_vector)\n",
        "      predicted = lgs.predict(X_eval_vector)\n",
        "      f1 = f1_score(y_eval, predicted)\n",
        "      accuracy = sum(predicted == y_eval) / len(predicted)\n",
        "      if best_f1 < f1:\n",
        "        print(f\"Accuracy: {accuracy} f1-score: {f1}, max-features:{i}\")\n",
        "        best_max_feature = i\n",
        "        best_cost = c\n",
        "        best_f1 = f1"
      ],
      "metadata": {
        "id": "gshluNGFEB5L"
      },
      "execution_count": null,
      "outputs": []
    },
    {
      "cell_type": "code",
      "source": [
        "print(f\"max_feature: {best_max_feature} cost: {best_cost} f1: {best_f1}\") #최적의 파라미터"
      ],
      "metadata": {
        "id": "-OnKersbEB2m"
      },
      "execution_count": null,
      "outputs": []
    },
    {
      "cell_type": "code",
      "source": [
        "vectorizer = TfidfVectorizer(analyzer='char',sublinear_tf = True, ngram_range=(1,3), max_features=best_max_feature) #최적의 파라미터를 기준으로 벡터화를 진행합니다.\n",
        "X_train_vector = vectorizer.fit_transform(X_train)\n",
        "X_eval_vector = vectorizer.transform(X_eval)\n",
        "lgs = LogisticRegression(class_weight = 'balanced', max_iter=2000, C = best_cost)\n",
        "lgs.fit(X_train_vector, y_train)\n",
        "yhat = lgs.predict_proba(X_eval_vector)\n",
        "yhat = yhat[:,1] #1인 경우의 확률만 구해줍니다.\n",
        "predicted = lgs.predict(X_eval_vector)\n",
        "f1 = f1_score(y_eval, predicted)\n",
        "print(f\"Accuracy: {lgs.score(X_eval_vector, y_eval)}\")\n",
        "print(f\"f1-score: {f1}\")"
      ],
      "metadata": {
        "id": "MZxGpQnsEBz6"
      },
      "execution_count": null,
      "outputs": []
    },
    {
      "cell_type": "code",
      "source": [
        "precisions,recalls,thresholds = precision_recall_curve(y_eval,yhat)\n",
        "plt.figure(figsize=(12,8))\n",
        "plt.plot(recalls, precisions, marker='.', label='Logistic', color='dodgerblue')\n",
        "f1_score_list = (2 * precisions * recalls) / (precisions + recalls)\n",
        "max_index = np.argmax(f1_score_list)\n",
        "best_threshold = thresholds[max_index]\n",
        "#s는 마커의 사이즈 facecolor는 마크의 내부 색상 edgecolor는 마크의 테두리 색상을 의미\n",
        "plt.scatter(recalls[max_index],precisions[max_index],marker='o',color='black',label='best',s=200,facecolors='none',edgecolors='black')\n",
        "plt.title('F1-curve')\n",
        "plt.xlabel('Recall')\n",
        "plt.ylabel('Precision')\n",
        "plt.legend()\n",
        "print('Best Threshold=%f, F-Score=%.3f' % (best_threshold, f1_score_list[max_index]))"
      ],
      "metadata": {
        "id": "Ye-_AVBjEBxh"
      },
      "execution_count": null,
      "outputs": []
    },
    {
      "cell_type": "code",
      "source": [
        "threshold = best_threshold\n",
        "y_pred = np.where(yhat >= threshold,1,0)\n",
        "f1 = f1_score(y_eval,y_pred,average='binary')\n",
        "print(f\"f1:{f1}\")"
      ],
      "metadata": {
        "id": "5Lspu1SwEBsC"
      },
      "execution_count": null,
      "outputs": []
    },
    {
      "cell_type": "code",
      "source": [
        "X_test = test['document']\n",
        "X_test = vectorizer.transform(X_test) #test 데이터에 벡터화를 진행합니다.\n",
        "pred = lgs.predict(X_test)"
      ],
      "metadata": {
        "id": "d7Z6vj-cEPvT"
      },
      "execution_count": null,
      "outputs": []
    },
    {
      "cell_type": "code",
      "source": [
        "res = pd.DataFrame()\n",
        "res['id'] = test['id']\n",
        "tyhat = lgs.predict_proba(X_test)\n",
        "tyhat = tyhat[:,1] #1인 경우의 확률만 구해줍니다.\n",
        "ty_pred = np.where(tyhat >= best_threshold,1,0)\n",
        "res['label'] = ty_pred"
      ],
      "metadata": {
        "id": "Z57A77x2EPsr"
      },
      "execution_count": null,
      "outputs": []
    },
    {
      "cell_type": "code",
      "source": [
        "res.to_csv('result.csv',index=None)"
      ],
      "metadata": {
        "id": "GqSVscrNEPqN"
      },
      "execution_count": null,
      "outputs": []
    },
    {
      "cell_type": "markdown",
      "source": [
        ""
      ],
      "metadata": {
        "id": "IVQK9TAKqjIu"
      }
    }
  ]
}