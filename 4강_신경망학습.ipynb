{
  "nbformat": 4,
  "nbformat_minor": 0,
  "metadata": {
    "colab": {
      "name": "4강 신경망학습.ipynb",
      "provenance": [],
      "collapsed_sections": [],
      "authorship_tag": "ABX9TyN41I70DSYRhaHxoVJeYE1Q"
    },
    "kernelspec": {
      "name": "python3",
      "display_name": "Python 3"
    },
    "language_info": {
      "name": "python"
    }
  },
  "cells": [
    {
      "cell_type": "markdown",
      "source": [
        "###4.1 데이터에서 학습한다!"
      ],
      "metadata": {
        "id": "QV7ECCF8Wjs2"
      }
    },
    {
      "cell_type": "markdown",
      "source": [
        "###4.2 손실함수"
      ],
      "metadata": {
        "id": "ac4DLnDkWdfd"
      }
    },
    {
      "cell_type": "markdown",
      "source": [
        "4.2.1 오차제곱합"
      ],
      "metadata": {
        "id": "ZvWD0-2rWhB1"
      }
    },
    {
      "cell_type": "code",
      "execution_count": null,
      "metadata": {
        "id": "RhZN99iZnOa3"
      },
      "outputs": [],
      "source": [
        "def sum_square_error(y,t):\n",
        "  return 0.5 * np.sum((y-t)**2)"
      ]
    },
    {
      "cell_type": "code",
      "source": [
        "import numpy as np\n",
        "\n",
        "#정답을 인코딩한 값 => 정답레이블은 2번 \n",
        "t = [0, 0, 1, 0, 0, 0, 0, 0, 0, 0]\n",
        "\n",
        "#y는 신경망 출력값 => 2번째 값이 0.6으로 가장 높은 값\n",
        "y = [0.1, 0.05, 0.6, 0.0, 0.05, 0.1, 0.0, 0.1, 0.0, 0.0]\n",
        "sum_square_error(np.array(y), np.array(t))"
      ],
      "metadata": {
        "colab": {
          "base_uri": "https://localhost:8080/"
        },
        "id": "lAA67NcgW4LA",
        "outputId": "b4117c22-1661-43b6-8ffd-076fd3ac84f5"
      },
      "execution_count": null,
      "outputs": [
        {
          "output_type": "execute_result",
          "data": {
            "text/plain": [
              "0.09750000000000003"
            ]
          },
          "metadata": {},
          "execution_count": 4
        }
      ]
    },
    {
      "cell_type": "code",
      "source": [
        "#y는 신경망 출력값 => 7번째 값이 0.6으로 가장 높은 값\n",
        "y = [0.1, 0.05, 0.1, 0.0, 0.05, 0.1, 0.0, 0.6, 0.0, 0.0]\n",
        "sum_square_error(np.array(y), np.array(t))\n",
        "\n",
        "'''위의 sum_square_error는 손실함수를 나타낸 값으로 첫번째 y 리스트는 정답과 같은 출력을 나타내\n",
        "손실값이 작고, 아래의 sum_square_error는 다른 값을 나타내 손실값이 더 크다.'''"
      ],
      "metadata": {
        "colab": {
          "base_uri": "https://localhost:8080/"
        },
        "id": "pk6Tl5EmX5IM",
        "outputId": "a6f83079-fc02-491d-f14b-ce14c24e4618"
      },
      "execution_count": null,
      "outputs": [
        {
          "output_type": "execute_result",
          "data": {
            "text/plain": [
              "0.5975"
            ]
          },
          "metadata": {},
          "execution_count": 5
        }
      ]
    },
    {
      "cell_type": "markdown",
      "source": [
        "4.2.2 교차 엔트로피 오차"
      ],
      "metadata": {
        "id": "dElnmivZYEpt"
      }
    },
    {
      "cell_type": "code",
      "source": [
        ""
      ],
      "metadata": {
        "id": "QuhBWSYVYDNq"
      },
      "execution_count": null,
      "outputs": []
    }
  ]
}