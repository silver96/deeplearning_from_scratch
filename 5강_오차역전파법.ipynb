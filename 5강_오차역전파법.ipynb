{
  "cells": [
    {
      "cell_type": "markdown",
      "metadata": {
        "id": "QV7ECCF8Wjs2"
      },
      "source": [
        "###5.1 계산 그래프"
      ]
    },
    {
      "cell_type": "markdown",
      "source": [
        "5.1.1 계산 그래프로 풀다"
      ],
      "metadata": {
        "id": "Z-3O__1-wqAR"
      }
    },
    {
      "cell_type": "markdown",
      "source": [
        "순전파(forward propagation) : 계산을 왼쪽에서 오른쪽으로 진행\n",
        "\n",
        "역전파(backwward propagation) : 계산을 오른쪽에서 왼쪽으로 진행"
      ],
      "metadata": {
        "id": "Ss3-YN7rwtbf"
      }
    },
    {
      "cell_type": "markdown",
      "source": [
        "###5.2 연쇄법칙"
      ],
      "metadata": {
        "id": "4RG0vzt1yM59"
      }
    },
    {
      "cell_type": "markdown",
      "source": [
        "5.2.1 계산그래프의 역전파"
      ],
      "metadata": {
        "id": "Mj2EzIGqydjA"
      }
    },
    {
      "cell_type": "markdown",
      "source": [
        "국소적미분 : y=f(x)의 함수의 미분값을 구하는 것\n",
        "\n",
        "연쇄법칙 : 합성함수의 미분은 합성함수를 구성하는 각 함수의 미분의 곱으로 나타낼 수 있다.\n",
        "\n",
        "  여러 계산을 전달하여 결국 최종 미분값을 얻음"
      ],
      "metadata": {
        "id": "qPn-y80kyuo8"
      }
    },
    {
      "cell_type": "markdown",
      "source": [
        "### 5.3 역전파"
      ],
      "metadata": {
        "id": "J6uak2n4zbem"
      }
    },
    {
      "cell_type": "markdown",
      "source": [
        "5.3.1 덧셈노드의 역전파 : 입력값 그대로 출력"
      ],
      "metadata": {
        "id": "8kFCme7bzfOA"
      }
    },
    {
      "cell_type": "markdown",
      "source": [
        "5.3.2 곱셈노드의 역전파: 입력값과 해당값을 곱해서 출력"
      ],
      "metadata": {
        "id": "X-Fvcu06zjw7"
      }
    },
    {
      "cell_type": "markdown",
      "source": [
        "### 5.4 단순한 계층 구현하기"
      ],
      "metadata": {
        "id": "eTZyhAdK1eE5"
      }
    },
    {
      "cell_type": "markdown",
      "source": [
        "5.4.1 곱셈 계층"
      ],
      "metadata": {
        "id": "gLaQTvcg1h2m"
      }
    },
    {
      "cell_type": "code",
      "source": [
        "class MulLayer:\n",
        "    \"\"\"변수 x, y 초기화: 곱셈계층은 미분값이 차수이므로 초기화 필요\n",
        "            덧셈은 어차피 미분값이 0이므로 필요X\"\"\"\n",
        "    def __init__(self): \n",
        "        self.x = None\n",
        "        self.y = None\n",
        "\n",
        "    def forward(self, x, y):\n",
        "        self.x = x\n",
        "        self.y = y                \n",
        "        out = x * y\n",
        "\n",
        "        return out\n",
        "\n",
        "    def backward(self, dout):\n",
        "        dx = dout * self.y  # 상류에서 넘어온 미분(dout)에 순전파 때의 값을 서로 바꿔 곱한 후 출력\n",
        "        dy = dout * self.x\n",
        "\n",
        "        return dx, dy"
      ],
      "metadata": {
        "id": "eVs4D8i11lCg"
      },
      "execution_count": 2,
      "outputs": []
    },
    {
      "cell_type": "code",
      "source": [
        "#순전파\n",
        "apple = 100\n",
        "apple_num = 2\n",
        "tax = 1.1\n",
        "\n",
        "#계층들\n",
        "mul_apple_layer = MulLayer()\n",
        "mul_tax_layer = MulLayer()\n",
        "\n",
        "#순전파\n",
        "apple_price = mul_apple_layer.forward(apple, apple_num)\n",
        "price = mul_tax_layer.forward(apple_price, tax)\n",
        "\n",
        "print(price) # 220"
      ],
      "metadata": {
        "colab": {
          "base_uri": "https://localhost:8080/"
        },
        "id": "bl2OtdAP4-lC",
        "outputId": "ad627252-cd88-493e-c2c5-e487b9c35b06"
      },
      "execution_count": 3,
      "outputs": [
        {
          "output_type": "stream",
          "name": "stdout",
          "text": [
            "220.00000000000003\n"
          ]
        }
      ]
    },
    {
      "cell_type": "code",
      "source": [
        "# backward\n",
        "dprice = 1\n",
        "dapple_price, dtax = mul_tax_layer.backward(dprice)  \n",
        "dapple, dapple_num = mul_apple_layer.backward(dapple_price)  \n",
        "\n",
        "print(\"price:\", int(price))\n",
        "print(\"dapple:\", dapple)\n",
        "print(\"dapple_num:\", int(dapple_num))\n",
        "print(\"dtax:\", dtax)"
      ],
      "metadata": {
        "colab": {
          "base_uri": "https://localhost:8080/"
        },
        "id": "jhLxqs8f5Kim",
        "outputId": "4c1be66b-024e-4944-f181-593f6ebac490"
      },
      "execution_count": 6,
      "outputs": [
        {
          "output_type": "stream",
          "name": "stdout",
          "text": [
            "price: 220\n",
            "dapple: 2.2\n",
            "dapple_num: 110\n",
            "dtax: 200\n"
          ]
        }
      ]
    },
    {
      "cell_type": "markdown",
      "source": [
        "5.4.2 덧셈 계층"
      ],
      "metadata": {
        "id": "154mjDZm4k3u"
      }
    },
    {
      "cell_type": "code",
      "source": [
        "class AddLayer:\n",
        "    def __init__(self):\n",
        "        pass\n",
        "\n",
        "    def forward(self, x, y):\n",
        "        out = x + y\n",
        "\n",
        "        return out\n",
        "\n",
        "    def backward(self, dout):\n",
        "        dx = dout * 1\n",
        "        dy = dout * 1\n",
        "\n",
        "        return dx, dy"
      ],
      "metadata": {
        "id": "ERWHlnqf4nhI"
      },
      "execution_count": 7,
      "outputs": []
    },
    {
      "cell_type": "code",
      "source": [
        "# coding: utf-8\n",
        "\n",
        "apple = 100\n",
        "apple_num = 2\n",
        "orange = 150\n",
        "orange_num = 3\n",
        "tax = 1.1\n",
        "\n",
        "# layer\n",
        "mul_apple_layer = MulLayer()\n",
        "mul_orange_layer = MulLayer()\n",
        "add_apple_orange_layer = AddLayer()\n",
        "mul_tax_layer = MulLayer()\n",
        "\n",
        "# forward\n",
        "apple_price = mul_apple_layer.forward(apple, apple_num)  # (1) 사과가격 구하기\n",
        "orange_price = mul_orange_layer.forward(orange, orange_num)  # (2) 오렌지 가격 구하기\n",
        "all_price = add_apple_orange_layer.forward(apple_price, orange_price)  # (3) 사과 가격 + 오렌지 가격\n",
        "price = mul_tax_layer.forward(all_price, tax)  # (4) 세금 더해진 값 구하기\n",
        "\n",
        "# backward\n",
        "dprice = 1\n",
        "dall_price, dtax = mul_tax_layer.backward(dprice)  # (4) 전체 가격 구하는 것으로 역전파\n",
        "dapple_price, dorange_price = add_apple_orange_layer.backward(dall_price)  # (3) 사과, 오렌지 가격 구하는 것으로 역전파\n",
        "dorange, dorange_num = mul_orange_layer.backward(dorange_price)  # (2) 오렌지 가격, 오렌지 수 구하는 것으로 역전파\n",
        "dapple, dapple_num = mul_apple_layer.backward(dapple_price)  # (1) 사과 가격, 사과 수 구하는 것으로 역전파\n",
        "\n",
        "print(\"price:\", int(price))\n",
        "print(\"dApple:\", dapple)\n",
        "print(\"dApple_num:\", int(dapple_num))\n",
        "print(\"dOrange:\", dorange)\n",
        "print(\"dOrange_num:\", int(dorange_num))\n",
        "print(\"dTax:\", dtax)"
      ],
      "metadata": {
        "colab": {
          "base_uri": "https://localhost:8080/"
        },
        "id": "_pToSNGL6mC9",
        "outputId": "112c114f-4e10-4ecd-dd02-e399df517cef"
      },
      "execution_count": 9,
      "outputs": [
        {
          "output_type": "stream",
          "name": "stdout",
          "text": [
            "price: 715\n",
            "dApple: 2.2\n",
            "dApple_num: 110\n",
            "dOrange: 3.3000000000000003\n",
            "dOrange_num: 165\n",
            "dTax: 650\n"
          ]
        }
      ]
    },
    {
      "cell_type": "markdown",
      "metadata": {
        "id": "ac4DLnDkWdfd"
      },
      "source": [
        "###5.5 활성화함수 계층 구현하기 "
      ]
    },
    {
      "cell_type": "markdown",
      "metadata": {
        "id": "ZvWD0-2rWhB1"
      },
      "source": [
        "5.5.1 ReLU 계층"
      ]
    },
    {
      "cell_type": "code",
      "execution_count": 14,
      "metadata": {
        "id": "RhZN99iZnOa3"
      },
      "outputs": [],
      "source": [
        "import numpy as np\n",
        "\n",
        "class Relu:\n",
        "  def __init__(self):\n",
        "      self.mask = None\n",
        "    \n",
        "  def forward(self, x):\n",
        "      self.mask = (x <= 0)\n",
        "      out = x.copy()\n",
        "      out[self.mask] = 0\n",
        "        \n",
        "      return out\n",
        "  \n",
        "  def backward(self, dout):\n",
        "      dout[self.mask] = 0\n",
        "      dx = dout\n",
        "      \n",
        "      return dx"
      ]
    },
    {
      "cell_type": "code",
      "source": [
        "x = np.array([[1.0, -0.5], [-2.0, 3.0]])\n",
        "print(x)\n",
        "mask = (x <= 0)\n",
        "print(mask)"
      ],
      "metadata": {
        "colab": {
          "base_uri": "https://localhost:8080/"
        },
        "id": "p82QeaVX-qhC",
        "outputId": "5c1675a0-900b-42f0-8eb2-e01c27dcb5ae"
      },
      "execution_count": 16,
      "outputs": [
        {
          "output_type": "stream",
          "name": "stdout",
          "text": [
            "[[ 1.  -0.5]\n",
            " [-2.   3. ]]\n",
            "[[False  True]\n",
            " [ True False]]\n"
          ]
        }
      ]
    }
  ],
  "metadata": {
    "colab": {
      "collapsed_sections": [],
      "name": "5강 오차역전파법.ipynb",
      "provenance": [],
      "authorship_tag": "ABX9TyNW6aHYasxLEcFbr/P8lUoS"
    },
    "kernelspec": {
      "display_name": "Python 3",
      "name": "python3"
    },
    "language_info": {
      "name": "python"
    }
  },
  "nbformat": 4,
  "nbformat_minor": 0
}